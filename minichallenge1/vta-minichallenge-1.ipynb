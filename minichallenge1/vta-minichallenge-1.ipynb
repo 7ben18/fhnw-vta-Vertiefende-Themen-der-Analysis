{
 "cells": [
  {
   "attachments": {},
   "cell_type": "markdown",
   "metadata": {},
   "source": [
    "# vta - Mini Challenge - Gradient Descent \n",
    "\n",
    "Das Ziel dieser Aufgabe besteht darin, dass Sie ein grundlegendes Verständnis für numerische\n",
    "Näherungsverfahren in höheren Dimensionen erlangen, insbesondere für den Gradient Descent\n",
    "und dessen praktische Anwendung. Hierfür sollen Sie ein Jupyter Notebook erstellen und das\n",
    "MNIST Dataset laden und erkunden. Anschließend sollen Sie ein neuronales Netzwerk erstellen\n",
    "und trainieren, um die Bilder korrekt zu klassifizieren. Es dürfen nur die angegebenen Python\n",
    "packages verwendet werden.  \n",
    "Ziel dieser Aufgabe ist nicht nur, Ihre mathematischen Kenntnisse unter Beweis zu stellen, sondern\n",
    "auch die entsprechende Kommunikation und Präsentation Ihrer Ergebnisse. Ihre Abgaben sollen\n",
    "also nicht nur mathematisch korrekt, sondern auch leicht verständlich und reproduzierbar\n",
    "sein. Genauere Angaben zu den Erwartungen an die Abgabe finden Sie in den Auswertungskriterien.\n",
    "Dokumentieren Sie ihren Arbeitsfortschritt und Erkenntnisgewinn in Form eines Lerntagebuchs,\n",
    "um Lernfortschritte, Schwierigkeiten und Erkenntnisse festzuhalten.\n",
    "Die folgenden Aufgabenstellungen präzisieren die einzelnen Bearbeitungsschritte und geben die\n",
    "Struktur des Notebooks vor.\n",
    "\n",
    "Diese Challenge wurde im FS23 erarbeitet von:  \n",
    "Patrik Schürmann   \n",
    "Tobias Buess  \n",
    "Si Ben Tran   "
   ]
  },
  {
   "attachments": {},
   "cell_type": "markdown",
   "metadata": {},
   "source": [
    "---\n",
    "\n",
    "# Aufgabe 1 \n",
    "Laden Sie das MNIST-Dataset mithilfe des torchvision-Pakets (Verwenden Sie das torchvision\n",
    "Paket für diese Aufgabe) und verwenden Sie matplotlib, um sich einen Überblick über die Daten\n",
    "zu verschaffen. Beschreiben Sie das grundlegenden Eigenschaften des Datensets, z.B. wie viele\n",
    "und welche Daten es enthält.\n",
    "\n",
    "**Dataset**\n",
    "1) Sind Trainings und Testdaten des MNIST-Dataset korrekt mithilfe des torchvision-Pakets\n",
    "geladen worden?\n",
    "2) Die grundlegenden Eigenschaften des MNIST-Datasets werden richtig beschrieben.\n",
    "3) Die Visualisierungen der Daten sind gut verständlich und representativ."
   ]
  },
  {
   "cell_type": "code",
   "execution_count": 1,
   "metadata": {},
   "outputs": [],
   "source": [
    "# CODE"
   ]
  },
  {
   "attachments": {},
   "cell_type": "markdown",
   "metadata": {},
   "source": [
    "---\n",
    "\n",
    "# Aufgabe 2\n",
    "Erstellen Sie eine Klasse für ein lineares Layer mit beliebig vielen Knoten. Implementieren Sie die\n",
    "Methoden forward, backward und update mithilfe von numpy. Schreiben sie geeignete Unittests,\n",
    "um die Funktionsweise der Funktion zu prüfen.\n",
    "\n",
    "**Linear Layer**\n",
    "\n",
    "4) Die Klasse für ein lineares Layer wurde mit beliebig vielen Knoten korrekt implementiert.\n",
    "5) Es wurden geeignete Unittests geschrieben, um die Funktionsweise der Klasse zu prüfen.\n",
    "(Richtige Berechnung des Gradienten bei mind. zwei Datenpunkten)"
   ]
  },
  {
   "cell_type": "code",
   "execution_count": 2,
   "metadata": {},
   "outputs": [],
   "source": [
    "# CODE"
   ]
  },
  {
   "attachments": {},
   "cell_type": "markdown",
   "metadata": {},
   "source": [
    "---\n",
    "\n",
    "# Aufgabe 3\n",
    "Erstellen Sie ein neuronales Netzwerk in numpy mit einem Hidden Linear Layer und einem Output\n",
    "Knoten. Trainieren Sie das Netzwerk darauf, die Ziffer 4 korrekt zu identifizieren (d.h. der Output\n",
    "soll 1 für diese Ziffer und 0 für alle anderen Ziffern sein). Trainieren Sie das Netzwerk auf den\n",
    "Trainingsdaten und evaluieren Sie es anhand von Testdaten. Verwenden Sie eine geeignete Loss-\n",
    "Funktion sowie Accuracy-Funktion und geben Sie deren mathematische Definition an. Begründen\n",
    "Sie Ihre Wahl mit einer Abwägung der Vor- und Nachteile. Diskutieren Sie kurz weitere Optionen\n",
    "für Loss und Accuracy.\n",
    "\n",
    "**Single Layer Model**\n",
    "\n",
    "6) Das neuronale Netzwerk wurde mit einem Hidden Layer beliebiger Grösse und einem Output\n",
    "Knoten korrekt implementiert.\n",
    "7) Geeignete Loss- und Accuracy-Funktionen wurden verwendet.\n",
    "8) Die Wahl wurde begründet und mit anderen mögliche Funktionen verglichen?\n",
    "9) Die mathematische Definition der Loss-Funktion und Accuracy-Funktion ist korrekt angegeben\n",
    "(gerendert in Latex)?\n",
    "10) Die geeignete Loss-Funktion und Accuracy-Funktion wurde korrekt implementiert."
   ]
  },
  {
   "cell_type": "code",
   "execution_count": 3,
   "metadata": {},
   "outputs": [],
   "source": [
    "# CODE"
   ]
  },
  {
   "attachments": {},
   "cell_type": "markdown",
   "metadata": {},
   "source": [
    "---\n",
    "\n",
    "# Aufgabe 4\n",
    "Trainieren Sie das Netzwerk mit verschiedenen Lernraten und Größen des Hidden Layers. Verfolgen\n",
    "Sie während des Trainings die Entwicklung der Loss- und Accuracy-Funktionen auf Trainingsund\n",
    "Testdatensätzen und entscheiden Sie, welche Wahl von Lernrate und Hidden Layer-Größe die\n",
    "besten Ergebnisse in geringster Zeit liefert.\n",
    "\n",
    "**Single Layer Model: Training**\n",
    "\n",
    "11) Das Netzwerk wurde korrekt auf den Trainingsdaten trainiert.\n",
    "12) Das Netzwerk wurde korrekt auf den Testdaten evaluiert.\n",
    "13) Es wurden verschiedene Lernraten und Größen des Hidden Layers sinnvoll ausprobiert.\n",
    "14) Die Entwicklung der Loss- und Accuracy-Funktionen wurden auf Trainings- und Testdatensätzen\n",
    "korrekt verfolgt und leicht nachvollziehbar dargestellt?\n",
    "1\n",
    "15) Die Wahl von Lernrate und Hidden Layer-Größe wurde nachvollziehbar entschieden und\n",
    "begründet."
   ]
  },
  {
   "cell_type": "code",
   "execution_count": 4,
   "metadata": {},
   "outputs": [],
   "source": [
    "# CODE"
   ]
  },
  {
   "attachments": {},
   "cell_type": "markdown",
   "metadata": {},
   "source": [
    "---\n",
    "\n",
    "# Aufgabe 5\n",
    "Erweitern Sie das Netzwerk auf 3 Hidden Layer mit gleicher Größe und 10 Outputs. Das Ziel\n",
    "ist die korrekte Klassifizierung aller Ziffern. Verwenden Sie eine geeignete Loss-Funktion sowie\n",
    "Accuracy-Funktion und geben Sie deren mathematische Definition an. Begründen Sie Ihre Wahl\n",
    "und diskutieren Sie kurz weitere Möglichkeiten. Variieren Sie die Lernrate und die Größe der\n",
    "Hidden Layer und wählen Sie das beste Ergebnis aus.\n",
    "\n",
    "**Multi Layer Model**\n",
    "\n",
    "16) Das Netzwerk wurde auf 3 Hidden Layer mit gleicher, frei wählbarer Größe und 10 Outputs\n",
    "erweitert.\n",
    "17) Geeignete Loss- und Accuracy-Funktionen wurden verwendet.\n",
    "18) Die Wahl wurde begründet und mit anderen möglichen Funktionen verglichen.\n",
    "19) Die mathematische Definition der Loss-Funktion und Accuracy-Funktion ist korrekt angegeben\n",
    "(gerendert in Latex).\n",
    "20) Die geeigneten Loss- und Accuracy-Funktionen wurden korrekt implementiert.\n",
    "21) Es wurden verschiedene Lernraten und Größen der Hidden Layer sinnvoll ausprobiert.\n",
    "22) Die Entwicklung der Loss- und Accuracy-Funktionen auf Trainings- und Testdatensätzen\n",
    "wurde korrekt verfolgt und leicht nachvollziehbar dargestellt?\n",
    "23) Die Wahl der Hyperparameter wurde nachvollziehbar entschieden und begründet?"
   ]
  },
  {
   "cell_type": "code",
   "execution_count": 5,
   "metadata": {},
   "outputs": [],
   "source": [
    "# CODE"
   ]
  },
  {
   "attachments": {},
   "cell_type": "markdown",
   "metadata": {},
   "source": [
    "---\n",
    "\n",
    "# ChatGPT & Form\n",
    "Für diese Aufgaben kann ChatGPT als Ressource genutzt werden, um Fragen zu stellen oder bei\n",
    "Problemen Unterstützung zu erhalten. Vorraussetzung ist, dass Sie transparent kommunizieren,\n",
    "wo und wie Sie ChatGPT eingesetzt haben und welche Verbesserungen nötig waren. Sie können\n",
    "ChatGPT wie folgt nutzen:\n",
    "\n",
    "• Stellen Sie Ihre Fragen klar und präzise.  \n",
    "• Formulieren Sie Ihre Fragen so, dass sie spezifisch auf Ihre Probleme abgestimmt sind.  \n",
    "• Seien Sie geduldig und geben Sie ChatGPT genügend Zeit, um eine sinnvolle Antwort zu\n",
    "generieren.  \n",
    "• Verwenden Sie die Antworten von ChatGPT als eine Art von Hilfestellung und überprüfen\n",
    "Sie diese stets auf ihre Richtigkeit.\n",
    "\n",
    "Wenn Sie eine Frage stellen, die auf eine bestimmte Stelle in Ihrem Code Bezug nimmt, können\n",
    "Sie den Code zusammen mit Ihrer Frage bereitstellen.\n",
    "\n",
    "**Form**\n",
    "\n",
    "24) Das Notebook lässt sich komplett und fehlerfrei ausführen.\n",
    "25) Es werden nur die Angegebenen Pakete verwendet: numpy, matplotlib; torchvision nur für\n",
    "das Dataset.\n",
    "26) Die Ergebnisse werden gut verständlich kommuniziert und kritisch evaluiert.\n",
    "27) Die Grafiken sind vollständig beschriftet und ohne weiter Erläuterung verständlich.\n",
    "28) Der Code ist gut strukturiert und verständlich kommentiert.\n",
    "29) Die Ergebnisse werden am Ende des Notebooks so zusammengefasst, dass diese Zusammenfassung\n",
    "eigenständig verständlich ist.\n",
    "30) Das Lerntagebuch ist kurz und verständlich geschrieben, zeigt den Lernfortschritt auf und\n",
    "macht mit den Kommentaren deutlich, wie und wofür ChatGPT und andere Tools verwendet\n",
    "wurden."
   ]
  }
 ],
 "metadata": {
  "kernelspec": {
   "display_name": "vta",
   "language": "python",
   "name": "python3"
  },
  "language_info": {
   "codemirror_mode": {
    "name": "ipython",
    "version": 3
   },
   "file_extension": ".py",
   "mimetype": "text/x-python",
   "name": "python",
   "nbconvert_exporter": "python",
   "pygments_lexer": "ipython3",
   "version": "3.9.7"
  },
  "orig_nbformat": 4
 },
 "nbformat": 4,
 "nbformat_minor": 2
}
