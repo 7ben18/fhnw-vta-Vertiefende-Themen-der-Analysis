{
 "cells": [
  {
   "cell_type": "code",
   "execution_count": 13,
   "metadata": {},
   "outputs": [],
   "source": [
    "class LinearLayer:\n",
    "    def __init__(self, input_dim, output_dim):\n",
    "        self.input_dim = input_dim\n",
    "        self.output_dim = output_dim\n",
    "        self.weights = np.random.randn(output_dim, input_dim)\n",
    "        self.biases = np.zeros(output_dim)\n",
    "        \n",
    "    def forward(self, inputs):\n",
    "        self.inputs = inputs\n",
    "        linear_output = np.dot(inputs, self.weights.T) + self.biases\n",
    "        activated_output = np.maximum(0, linear_output)  # ReLU activation function\n",
    "        return activated_output\n",
    "        \n",
    "    def backward(self, grad_output):\n",
    "        grad_input = np.dot(grad_output, self.weights)\n",
    "        grad_weights = np.dot(grad_output.T, self.inputs).T\n",
    "        grad_biases = np.sum(grad_output, axis=0)\n",
    "        # derivative of ReLU activation function\n",
    "        derivative = np.zeros_like(self.inputs)\n",
    "        derivative[self.inputs > 0] = 1\n",
    "        grad_input *= derivative\n",
    "        return grad_input, grad_weights, grad_biases\n",
    "        \n",
    "    def update(self, grad_weights, grad_biases, learning_rate):\n",
    "        self.weights -= learning_rate * grad_weights.T\n",
    "        self.biases -= learning_rate * grad_biases\n",
    "        \n",
    "    def softmax(self, inputs):\n",
    "        exp_inputs = np.exp(inputs)\n",
    "        return exp_inputs / np.sum(exp_inputs, axis=1, keepdims=True)\n",
    "    \n",
    "    def cross_entropy_loss(self, inputs, targets):\n",
    "        softmax_inputs = self.softmax(inputs)\n",
    "        num_samples = inputs.shape[0]\n",
    "        loss = -np.sum(targets * np.log(softmax_inputs)) / num_samples\n",
    "        grad_output = (softmax_inputs - targets) / num_samples\n",
    "        return loss, grad_output"
   ]
  },
  {
   "cell_type": "code",
   "execution_count": 17,
   "metadata": {},
   "outputs": [
    {
     "name": "stdout",
     "output_type": "stream",
     "text": [
      "[[ 1.02262214  1.43792123  0.12519207  0.74436076]\n",
      " [-1.57822203  0.23939582 -1.19330818  0.57173171]\n",
      " [ 1.19186998 -0.71064691 -1.12131597  0.42942155]]\n",
      "[[ 0.97167818  1.31236165  0.01443683  0.77490577]\n",
      " [-1.29644826  0.45173199 -0.76412721  0.41060842]\n",
      " [ 1.15163955 -0.63462864 -1.14214153  0.45070073]]\n",
      "[[ 0.84523496  1.41709272 -0.1020658   0.84396299]\n",
      " [-1.2894713   0.35157285 -0.79360216  0.40832928]\n",
      " [ 1.08218648 -0.82448386 -1.30024163  0.49264648]]\n",
      "[[ 0.93579829  1.41168849  0.00785747  0.79337224]\n",
      " [-1.14755191  0.49974817 -0.56175495  0.32650828]\n",
      " [ 0.95907355 -0.94563417 -1.49855453  0.56350507]]\n"
     ]
    }
   ],
   "source": [
    "input_dim = 4\n",
    "output_dim = 3\n",
    "batch_size = 2\n",
    "\n",
    "\n",
    "\n",
    "# create a linear layer\n",
    "linear_layer = LinearLayer(input_dim, output_dim)\n",
    "print(linear_layer.weights)\n",
    "\n",
    "# generate some random inputs\n",
    "inputs = np.random.randn(batch_size, input_dim)\n",
    "\n",
    "for i in range(3):\n",
    "    # compute the forward pass\n",
    "    outputs = linear_layer.forward(inputs)\n",
    "\n",
    "    # ACHTUNG: RANDOM STATT GRAD_OUTPUT VOM MODEL\n",
    "    # compute the gradients with respect to the outputs\n",
    "    grad_output = np.random.randn(batch_size, output_dim)\n",
    "\n",
    "    # compute the gradients with respect to the inputs, weights, and biases\n",
    "    grad_input, grad_weights, grad_biases = linear_layer.backward(grad_output)\n",
    "\n",
    "    # update the weights and biases\n",
    "    learning_rate = 0.1\n",
    "    linear_layer.update(grad_weights, grad_biases, learning_rate)\n",
    "\n",
    "    print(linear_layer.weights)"
   ]
  }
 ],
 "metadata": {
  "kernelspec": {
   "display_name": "ccv1",
   "language": "python",
   "name": "python3"
  },
  "language_info": {
   "codemirror_mode": {
    "name": "ipython",
    "version": 3
   },
   "file_extension": ".py",
   "mimetype": "text/x-python",
   "name": "python",
   "nbconvert_exporter": "python",
   "pygments_lexer": "ipython3",
   "version": "3.10.9 (main, Mar  8 2023, 04:44:36) [Clang 14.0.6 ]"
  },
  "orig_nbformat": 4,
  "vscode": {
   "interpreter": {
    "hash": "b519adb5a3361c34536ceca665d8c09f200cb8374a4986c7ce79fcb6d8f71188"
   }
  }
 },
 "nbformat": 4,
 "nbformat_minor": 2
}
