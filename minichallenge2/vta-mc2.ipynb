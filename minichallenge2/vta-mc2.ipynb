{
 "cells": [
  {
   "attachments": {},
   "cell_type": "markdown",
   "metadata": {},
   "source": [
    "# Mini Challenge Fourier Transformation\n",
    "\n",
    "Dias Ziel dieser Aufgabe besteht darin, dass Sie ein grundlegendes Verständnis der Fouriertransformation\n",
    "zur Näherung von periodischen Funktionen und dessen praktische Anwendung zur\n",
    "Datenanalyse und -bearbeitung erlangen. Hierfür sollen Sie ein Jupyter Notebook erstellen, in\n",
    "dem Sie die unten aufgeführten Aufgaben nacheinander bearbeiten. Zunächst werden Sie die\n",
    "Fouriertransformation in numpy selbst implementieren und damit drei Funktionen fitten. Danach\n",
    "werden Sie nacheinander Sonnendaten, Musik und Bilder mithilfe von Fouriertransformationen\n",
    "analysieren und bearbeiten.\n",
    "Ziel dieser Aufgabe ist nicht nur, Ihre mathematischen Kenntnisse unter Beweis zu stellen, sondern\n",
    "auch die entsprechende Kommunikation und Präsentation Ihrer Ergebnisse. Ihre Abgaben sollen\n",
    "also nicht nur mathematisch korrekt, sondern auch leicht verständlich und reproduzierbar\n",
    "sein. Genauere Angaben zu den Erwartungen an die Abgabe finden Sie in den Auswertungskriterien.\n",
    "Dokumentieren Sie ihren Arbeitsfortschritt und Erkenntnisgewinn in Form eines Lerntagebuchs,\n",
    "um Lernfortschritte, Schwierigkeiten und Erkenntnisse festzuhalten.\n",
    "Die folgenden Aufgabenstellungen präzisieren die einzelnen Bearbeitungsschritte und geben die\n",
    "Struktur des Notebooks vor"
   ]
  },
  {
   "attachments": {},
   "cell_type": "markdown",
   "metadata": {},
   "source": [
    "# Aufgabe 1.\n",
    "In dieser Aufgabe implementieren Sie die Berechnung der Fourier-Approximation in numpy (kein\n",
    "fft)"
   ]
  },
  {
   "attachments": {},
   "cell_type": "markdown",
   "metadata": {},
   "source": [
    "## Aufgabe 1 a\n",
    "(a) Implementieren Sie mit numpy eine Methode zur Berechnung der k-ten Fourier-Komponente\n",
    "einer Funktion gegeben durch arrays x und y mithilfe der Trapezregel (np.trapz)."
   ]
  },
  {
   "cell_type": "code",
   "execution_count": 1,
   "metadata": {},
   "outputs": [],
   "source": [
    "# CODE"
   ]
  },
  {
   "attachments": {},
   "cell_type": "markdown",
   "metadata": {},
   "source": [
    "## Aufgabe 1 b\n",
    "(b) Implementieren Sie mit numpy eine Methode zur Berechnung der Fourier-Approximation\n",
    "fapp mit einer gegebenen Anzahl (2m + 1) von Fourier-Komponenten."
   ]
  },
  {
   "cell_type": "code",
   "execution_count": 2,
   "metadata": {},
   "outputs": [],
   "source": [
    "# CODE"
   ]
  },
  {
   "attachments": {},
   "cell_type": "markdown",
   "metadata": {},
   "source": [
    "## Aufgabe 1 c \n",
    "(c) Nähern Sie die Funktion f1(x) = 1/(ex +e−x) auf dem Intervall [−3, 3] (Auflösung: N = 600\n",
    "Schritte) mit verschiedenen Anzahlen von Komponenten (2m+1). Plotten Sie den Vergleich\n",
    "zur Originalfunktion f."
   ]
  },
  {
   "cell_type": "code",
   "execution_count": 3,
   "metadata": {},
   "outputs": [],
   "source": [
    "# CODE"
   ]
  },
  {
   "attachments": {},
   "cell_type": "markdown",
   "metadata": {},
   "source": [
    "## Aufgabe 1 d\n",
    "(d) Bestimmen Sie die Anzahl der Fourier-Komponenten, die benötigt werden, um eine Approximation\n",
    "mit höchstens 0,1% relativen Fehler zu erhalten."
   ]
  },
  {
   "cell_type": "code",
   "execution_count": 4,
   "metadata": {},
   "outputs": [],
   "source": [
    "# CODE"
   ]
  },
  {
   "attachments": {},
   "cell_type": "markdown",
   "metadata": {},
   "source": [
    "## Aufgabe 1 e\n",
    "(e) Versuchen Sie die Funktionen f2(x) = ex und f3(x) = e|x| auf dem Intervall [−3, 3] (Auflösung:\n",
    "N = 600 Schritte) mit einem 0,1%igen Approximationsfehler anzunähern. Beschreiben und\n",
    "erklären Sie die Unterschiede."
   ]
  },
  {
   "cell_type": "code",
   "execution_count": 5,
   "metadata": {},
   "outputs": [],
   "source": [
    "# CODE"
   ]
  },
  {
   "attachments": {},
   "cell_type": "markdown",
   "metadata": {},
   "source": [
    "# Aufgabe 2.\n",
    "In dieser Aufgabe wenden Sie die Fourier-Analyse auf Sonnenfleckendaten an (sunspots.txt). Sie\n",
    "dürfen dafür die fft routine von numpy oder scipy verwenden."
   ]
  },
  {
   "cell_type": "code",
   "execution_count": 6,
   "metadata": {},
   "outputs": [],
   "source": [
    "# CODE"
   ]
  },
  {
   "attachments": {},
   "cell_type": "markdown",
   "metadata": {},
   "source": [
    "## Aufgabe 2 a\n",
    "(a) Plotten Sie das Power-Spektrum und finden Sie die dominante Periodizität der Schwingung.\n",
    "Damit erhalten Sie eine Abschätzung auf die Dauer des Sonnenzyklus.\n"
   ]
  },
  {
   "cell_type": "code",
   "execution_count": 7,
   "metadata": {},
   "outputs": [],
   "source": [
    "# CODE"
   ]
  },
  {
   "attachments": {},
   "cell_type": "markdown",
   "metadata": {},
   "source": [
    "## Aufgabe 2 b\n",
    "(b) Können Sie weitere Perioden in den Sonnenfleck-Daten mithilfe des Fourier-Spektrums\n",
    "finden?"
   ]
  },
  {
   "cell_type": "code",
   "execution_count": 8,
   "metadata": {},
   "outputs": [],
   "source": [
    "# CODE"
   ]
  },
  {
   "attachments": {},
   "cell_type": "markdown",
   "metadata": {},
   "source": [
    "## Aufgabe 2 c\n",
    "(c) Entfernen Sie einige Komponenten im Fourier-Spektrum und führen dann eine Rücktransformation\n",
    "durch:\n",
    "• grössten Komponenten entfernen (k > 20)\n",
    "• kleinsten Komponenten entfernen (k < 5)\n",
    "Beschreiben und erklären Sie die Ergebnisse.\n"
   ]
  },
  {
   "cell_type": "code",
   "execution_count": 9,
   "metadata": {},
   "outputs": [],
   "source": [
    "# CODE"
   ]
  },
  {
   "attachments": {},
   "cell_type": "markdown",
   "metadata": {},
   "source": [
    "## Aufagbe 2 d\n",
    "(d) Vergleichen Sie die Ergebnisse mit denen aus Aufgabe 1. Beschreiben und erklären Sie\n",
    "Unterschiede in den Fourier-Koeffizienten."
   ]
  },
  {
   "cell_type": "code",
   "execution_count": 10,
   "metadata": {},
   "outputs": [],
   "source": [
    "# CODE"
   ]
  },
  {
   "attachments": {},
   "cell_type": "markdown",
   "metadata": {},
   "source": [
    "# Aufgabe 3.\n",
    "In dieser Aufgabe analysieren und bearbeiten Sie ein Musikstück (music.wav). Sie dürfen dafür\n",
    "zB die fft routine von numpy oder scipy sowie das librosa und soundfile paket verwenden."
   ]
  },
  {
   "attachments": {},
   "cell_type": "markdown",
   "metadata": {},
   "source": [
    "## Aufagbe 3 a\n",
    "(a) Plotten Sie die Wellenform des Klangs (waveplot) - einmal vollständig und einmal für einen\n",
    "kleinen Zeitberech, sodass die Wellenform deutlich wird - sowie das Amplitudenspektrum.\n",
    "Wieso ist das Amplitudenspektrum symmetrisch bezüglich des Vorzeichens?"
   ]
  },
  {
   "cell_type": "code",
   "execution_count": 11,
   "metadata": {},
   "outputs": [],
   "source": [
    "# CODE"
   ]
  },
  {
   "attachments": {},
   "cell_type": "markdown",
   "metadata": {},
   "source": [
    "## Aufgabe 3 b\n",
    "(b) Trennen Sie den Sound-Signal in einen Teil oberhalb und unterhalb von 2 kHz in Frequenzen.\n",
    "Identifizieren Sie jeweils die Top 5 Frequenzen in diesen Frequenzbereichen."
   ]
  },
  {
   "cell_type": "code",
   "execution_count": 12,
   "metadata": {},
   "outputs": [],
   "source": [
    "# CODE"
   ]
  },
  {
   "attachments": {},
   "cell_type": "markdown",
   "metadata": {},
   "source": [
    "## Aufgabe 3 c\n",
    "(c) Berechnen Sie aus diesen beiden Teilen jeweils eine Rekonstruktion. Berechnen Sie den\n",
    "Fehler der Rekonstruktion wie in Aufgabe 1 für die gefilterten Signale und schreiben Sie\n",
    "die gefilterten rekonstruierten Daten in eine wav-Datei. Beschreiben und erklären Sie das\n",
    "Ergebnis."
   ]
  },
  {
   "cell_type": "code",
   "execution_count": 13,
   "metadata": {},
   "outputs": [],
   "source": [
    "# CODE"
   ]
  },
  {
   "attachments": {},
   "cell_type": "markdown",
   "metadata": {},
   "source": [
    "# Aufgabe 4.\n",
    "In dieser Aufgabe analysieren und bearbeiten Sie eine Bilddatei (img.jpg). Sie dürfen dafür die fft\n",
    "routine von numpy oder scipy verwenden."
   ]
  },
  {
   "attachments": {},
   "cell_type": "markdown",
   "metadata": {},
   "source": [
    "## Aufgabe 4 a\n",
    "(a) Plotten Sie die 2D-Verteilung der absoluten Werte der Fourier-Komponenten, sodass die\n",
    "kleinsten k-Werte in der Mitte liegen. Erklären Sie die Natur der Verteilung."
   ]
  },
  {
   "cell_type": "code",
   "execution_count": 14,
   "metadata": {},
   "outputs": [],
   "source": [
    "# CODE"
   ]
  },
  {
   "attachments": {},
   "cell_type": "markdown",
   "metadata": {},
   "source": [
    "## Aufgabe 4 b\n",
    "(b) Entfernen Sie je die Fourier-Komponenten mit absoluter Amplitude unter dem Schwellenwert\n",
    "0.001%, 0.01%, 0.1%, 1% und 10% der maximalen Amplitude. Führen Sie eine inverse\n",
    "Fourier-Transformation durch und stellen Sie die gefilterten Fourierkomponenten sowie die\n",
    "resultierenden Bilder dar. Beschreiben und erklären Sie die Unterschiede."
   ]
  },
  {
   "cell_type": "code",
   "execution_count": 15,
   "metadata": {},
   "outputs": [],
   "source": [
    "# CODE"
   ]
  },
  {
   "attachments": {},
   "cell_type": "markdown",
   "metadata": {},
   "source": [
    "## Aufgabe 4 c\n",
    "(c) Berechnen Sie den Fehler (Aufgabe 1) zwischen rekonstruiertem und Originalbild. Wie weit\n",
    "können die Daten kompressiert werden, ohne einen Fehler von höchstens 1% zu überschreiten?"
   ]
  },
  {
   "cell_type": "code",
   "execution_count": 16,
   "metadata": {},
   "outputs": [],
   "source": [
    "# CODE"
   ]
  },
  {
   "attachments": {},
   "cell_type": "markdown",
   "metadata": {},
   "source": [
    "# Chatgpt\n",
    "\n",
    "Für diese Aufgaben kann ChatGPT als Ressource genutzt werden, um Fragen zu stellen oder bei\n",
    "Problemen Unterstützung zu erhalten. Vorraussetzung ist, dass Sie transparent kommunizieren,\n",
    "wo und wie Sie ChatGPT eingesetzt haben und welche Verbesserungen nötig waren. Sie können\n",
    "ChatGPT wie folgt nutzen:\n",
    "• Stellen Sie Ihre Fragen klar und präzise.\n",
    "• Formulieren Sie Ihre Fragen so, dass sie spezifisch auf Ihre Probleme abgestimmt sind.\n",
    "• Seien Sie geduldig und geben Sie ChatGPT genügend Zeit, um eine sinnvolle Antwort zu\n",
    "generieren.\n",
    "• Verwenden Sie die Antworten von ChatGPT als eine Art von Hilfestellung und überprüfen\n",
    "Sie diese stets auf ihre Richtigkeit.\n",
    "Wenn Sie eine Frage stellen, die auf eine bestimmte Stelle in Ihrem Code Bezug nimmt, können\n",
    "Sie den Code zusammen mit Ihrer Frage bereitstellen."
   ]
  },
  {
   "attachments": {},
   "cell_type": "markdown",
   "metadata": {},
   "source": [
    "# Lerntagebuch\n",
    "\n",
    "| Aufgabe | Schwierigkeit | Erkentnisse | Lernerfolg |\n",
    "| --- | --- | --- | --- |\n",
    "| 1 |  | | |\n",
    "| 2 |  | | |\n",
    "| 3 |  | | |\n",
    "| 4 |  | | |\n",
    "\n"
   ]
  },
  {
   "attachments": {},
   "cell_type": "markdown",
   "metadata": {},
   "source": [
    "# Bewertungsraster\n",
    "\n",
    "## Fourier-Approximation\n",
    "1) Korrekte Implementierung der k-ten Fourier-Komponente\n",
    "2) Korrekte Implementierung der Fourier-Approximation\n",
    "3) Korrekte, verständliche und kompakte Plots der Funktionen und aller berechneten Approximationen\n",
    "4) Korrekter relativer Fehler: mathematische Definition angegeben und korrekt implementiert\n",
    "5) Korrekte Bestimmung der Anzahl der Fourier-Komponenten für einen relativen Fehler von\n",
    "höchstens 0,1% bei f1, f2 und f3\n",
    "6) Korrekte und verständliche Beschreibung und Erklärung der Unterschiede bei den Approximationen\n",
    "der verschiedenen Funktionen\n",
    "## Sonnenflecken\n",
    "7) Korrekter Plot für Wellenform und Amplitudenspektrum\n",
    "8) Korrekte Bestimmung der dominanten Periodizität der Schwingung in Jahren\n",
    "9) Korrekte Identifizierung weiterer Perioden im Fourier-Spektrum in Jahren\n",
    "10) Korrektes Entfernen von Komponenten und Durchführung einer Rücktransformation\n",
    "11) Korrexte und verständliche Beschreibung und Erklärung der Ergebnisse nach dem Entfernen\n",
    "von Komponenten\n",
    "12) Korrekter und Verständlicher Vergleich der Ergebnisse mit denen aus Aufgabe 1 und\n",
    "Erklärung der Unterschiede\n",
    "## Musikbearbeitung\n",
    "13) Korrekter Plot der Wellenform und des Amplitudenspektrums\n",
    "14) Korrekte und verständliche Erklärung der Symmetrie des Amplitudenspektrums\n",
    "15) Korrektes Trennen des Klangsignals in Frequenzbereiche und Identifizierung der jeweiligen\n",
    "Top 5 Frequenzen in Hertz\n",
    "16) Korrekte Rekonstruktion der gefilterten Signale\n",
    "17) Korrekte Berechnung des Fehlers für die gefilterten rekonstruierten Signale\n",
    "18) Korrekte und verständliche Beschreibung und Erklärung der Ergebnisse\n",
    "Bildbearbeitung\n",
    "19) Korrekter Plot der 2D-Verteilung der absoluten Werte der Fourier-Komponenten\n",
    "20) Korrekte und verständliche Erklärung der Verteilung\n",
    "21) Korrektes Entfernen von Fourier-Komponenten, Durchführung einer inversen Fourier-Transformation\n",
    "und Darstellung der resultierenden Bilder\n",
    "22) Korrexte und verständliche Beschreibung und Erklärung der Unterschiede in den Bildern\n",
    "23) Korrekte Berechnung des Fehlers\n",
    "24) Korrekte und leicht nachvollziehbare Bestimmung der maximal möglichen Kompression\n",
    "## Präsentation, Kommunikation und Verständlichkeit\n",
    "25) Klarer und logischer Aufbau des Notebooks\n",
    "26) Verwendung aussagekräftiger und gut beschrifteter Diagramme\n",
    "27) Das Notebook lässt sich vollständig und Fehlerfrei in weniger als 5 Minuten ausführen\n",
    "28) Der Code ist gut strukturiert und verständlich kommentiert.\n",
    "29) Die Ergebnisse werden am Ende des Notebooks so zusammengefasst, dass diese Zusammenfassung\n",
    "eigenständig verständlich ist.\n",
    "30) Das Lerntagebuch ist kurz und verständlich geschrieben, zeigt den Lernfortschritt auf und\n",
    "macht mit den Kommentaren deutlich, wie und wofür ChatGPT und andere Tools verwendet\n",
    "wurden."
   ]
  }
 ],
 "metadata": {
  "kernelspec": {
   "display_name": "vta",
   "language": "python",
   "name": "python3"
  },
  "language_info": {
   "codemirror_mode": {
    "name": "ipython",
    "version": 3
   },
   "file_extension": ".py",
   "mimetype": "text/x-python",
   "name": "python",
   "nbconvert_exporter": "python",
   "pygments_lexer": "ipython3",
   "version": "3.9.7"
  },
  "orig_nbformat": 4
 },
 "nbformat": 4,
 "nbformat_minor": 2
}
